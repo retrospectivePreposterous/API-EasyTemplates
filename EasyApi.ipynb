{
 "cells": [
  {
   "cell_type": "code",
   "execution_count": 1,
   "id": "9e68dc1c",
   "metadata": {},
   "outputs": [
    {
     "data": {
      "text/plain": [
       "[8, 10]"
      ]
     },
     "execution_count": 1,
     "metadata": {},
     "output_type": "execute_result"
    }
   ],
   "source": [
    "def predict (mensajes):\n",
    "    resultado = []\n",
    "    for i in mensajes:\n",
    "        resultado.append(len(i))\n",
    "    return resultado      \n",
    "\n",
    "predict([\"hola que\", \"mis dieses\"])"
   ]
  },
  {
   "cell_type": "code",
   "execution_count": 2,
   "id": "844c32af",
   "metadata": {},
   "outputs": [],
   "source": [
    "from fastapi import FastAPI\n",
    "from fastapi.middleware.cors import CORSMiddleware\n",
    "from typing import Optional, Union, List\n",
    "from fastapi import FastAPI, HTTPException, Query, Request\n",
    "\n",
    "app = FastAPI()\n",
    "app.add_middleware(\n",
    "    CORSMiddleware,\n",
    "    allow_origins=['*'],\n",
    "    allow_credentials=True,\n",
    "    allow_methods=['*'],\n",
    "    allow_headers=['*'],\n",
    ")\n",
    "\n",
    "@app.get(\"/\")\n",
    "def predict_get(mensajes: List[str] = Query([])):\n",
    "    return predict(mensajes)\n",
    "\n",
    "@app.post(\"/\")\n",
    "async def predict_post(request: Request):\n",
    "    data = await request.json()\n",
    "    return predict_get(**data)"
   ]
  },
  {
   "cell_type": "code",
   "execution_count": null,
   "id": "16df8bdb",
   "metadata": {},
   "outputs": [
    {
     "name": "stdout",
     "output_type": "stream",
     "text": [
      "REST API started\n",
      "Your public API URL: http://6ac8-82-159-114-101.ngrok.io\n"
     ]
    },
    {
     "name": "stderr",
     "output_type": "stream",
     "text": [
      "INFO:     Started server process [24224]\n",
      "INFO:     Waiting for application startup.\n",
      "INFO:     Application startup complete.\n",
      "INFO:     Uvicorn running on http://127.0.0.1:8000 (Press CTRL+C to quit)\n"
     ]
    },
    {
     "name": "stdout",
     "output_type": "stream",
     "text": [
      "INFO:     82.159.114.101:0 - \"POST / HTTP/1.1\" 200 OK\n",
      "INFO:     82.159.114.101:0 - \"GET / HTTP/1.1\" 200 OK\n",
      "INFO:     82.159.114.101:0 - \"GET /favicon.ico HTTP/1.1\" 404 Not Found\n",
      "INFO:     212.142.160.197:0 - \"GET / HTTP/1.1\" 200 OK\n",
      "INFO:     82.159.114.101:0 - \"GET /hola HTTP/1.1\" 404 Not Found\n",
      "INFO:     82.159.114.101:0 - \"GET /favicon.ico HTTP/1.1\" 404 Not Found\n",
      "INFO:     178.60.195.198:0 - \"GET /hola HTTP/1.1\" 404 Not Found\n",
      "INFO:     82.159.114.101:0 - \"GET /mensajes/hola HTTP/1.1\" 404 Not Found\n",
      "INFO:     90.160.195.4:0 - \"GET /mensajes/hola HTTP/1.1\" 404 Not Found\n",
      "INFO:     82.159.114.101:0 - \"GET /?mensajes=hola HTTP/1.1\" 200 OK\n",
      "INFO:     82.159.114.101:0 - \"GET /?mensajes=%27hola HTTP/1.1\" 200 OK\n",
      "INFO:     82.159.114.101:0 - \"GET /?mensajes=[%27hola%27,%27muybuenas%27] HTTP/1.1\" 200 OK\n",
      "INFO:     82.159.114.101:0 - \"GET /?mensajes=[%27hola%27,%27adios%27] HTTP/1.1\" 200 OK\n",
      "INFO:     82.159.114.101:0 - \"GET /?mensajes=comova HTTP/1.1\" 200 OK\n",
      "INFO:     82.159.114.101:0 - \"GET /?mensajes=comova?mensajes=comova HTTP/1.1\" 200 OK\n",
      "INFO:     82.159.114.101:0 - \"GET /?mensajes=comova/?mensajes=comova HTTP/1.1\" 200 OK\n",
      "INFO:     82.159.114.101:0 - \"GET /?mensajes=comova&mensajes=bien HTTP/1.1\" 200 OK\n",
      "INFO:     82.159.114.101:0 - \"GET /?mensajes=comova&mensajes=yo%20bien HTTP/1.1\" 200 OK\n",
      "INFO:     82.159.114.101:0 - \"GET /?mensajes=comova&mensajes=yo%20bien HTTP/1.1\" 200 OK\n",
      "INFO:     82.159.114.101:0 - \"GET /?mensajes=comova&mensajes=yo%20bien HTTP/1.1\" 200 OK\n"
     ]
    },
    {
     "name": "stderr",
     "output_type": "stream",
     "text": [
      "t=2022-12-08T11:57:39+0100 lvl=eror msg=\"heartbeat timeout, terminating session\" obj=csess id=8f62c6bb005e clientid=4469fec96b4325ef6d7f3b9fe25000e8\n",
      "t=2022-12-08T11:57:39+0100 lvl=eror msg=\"session closed, starting reconnect loop\" obj=csess id=748e89192c9f err=\"session closed\"\n"
     ]
    }
   ],
   "source": [
    "import nest_asyncio\n",
    "from pyngrok import ngrok\n",
    "import uvicorn\n",
    "\n",
    "ngrok_tunnel = ngrok.connect(8000)\n",
    "print(\"REST API started\")\n",
    "print(\"Your public API URL:\", ngrok_tunnel.public_url)\n",
    "\n",
    "nest_asyncio.apply()\n",
    "uvicorn.run(app, port=8000)"
   ]
  },
  {
   "cell_type": "code",
   "execution_count": null,
   "id": "71ff3b19",
   "metadata": {},
   "outputs": [],
   "source": []
  }
 ],
 "metadata": {
  "kernelspec": {
   "display_name": "Python 3 (ipykernel)",
   "language": "python",
   "name": "python3"
  },
  "language_info": {
   "codemirror_mode": {
    "name": "ipython",
    "version": 3
   },
   "file_extension": ".py",
   "mimetype": "text/x-python",
   "name": "python",
   "nbconvert_exporter": "python",
   "pygments_lexer": "ipython3",
   "version": "3.8.12"
  }
 },
 "nbformat": 4,
 "nbformat_minor": 5
}
