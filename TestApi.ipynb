{
 "cells": [
  {
   "cell_type": "code",
   "execution_count": 1,
   "id": "7ed8f01c",
   "metadata": {},
   "outputs": [
    {
     "name": "stdout",
     "output_type": "stream",
     "text": [
      "[23, 30]\n"
     ]
    }
   ],
   "source": [
    "\n",
    "import requests\n",
    "r = requests.post(\"http://6ac8-82-159-114-101.ngrok.io\", \n",
    "     json={'mensajes': [\"Hola hermano cómo estás\", \"Es werden alle Texte übersetzt\"]})\n",
    "print(r.json())"
   ]
  },
  {
   "cell_type": "code",
   "execution_count": null,
   "id": "5c1e4129",
   "metadata": {},
   "outputs": [],
   "source": [
    "'''\n",
    "Otra forma es a través de URL:\n",
    "\n",
    "https://6ac8-82-159-114-101.ngrok.io/?mensajes=comova&mensajes=yo bien\n",
    "'''"
   ]
  },
  {
   "cell_type": "code",
   "execution_count": 2,
   "id": "f70507ef",
   "metadata": {},
   "outputs": [
    {
     "data": {
      "text/plain": [
       "'h[SUB]la que hay'"
      ]
     },
     "execution_count": 2,
     "metadata": {},
     "output_type": "execute_result"
    }
   ],
   "source": [
    "men = 'hola que hay'\n",
    "men.replace('o','[SUB]')"
   ]
  },
  {
   "cell_type": "code",
   "execution_count": null,
   "id": "c8214bf6",
   "metadata": {},
   "outputs": [],
   "source": []
  }
 ],
 "metadata": {
  "kernelspec": {
   "display_name": "Python 3 (ipykernel)",
   "language": "python",
   "name": "python3"
  },
  "language_info": {
   "codemirror_mode": {
    "name": "ipython",
    "version": 3
   },
   "file_extension": ".py",
   "mimetype": "text/x-python",
   "name": "python",
   "nbconvert_exporter": "python",
   "pygments_lexer": "ipython3",
   "version": "3.8.12"
  }
 },
 "nbformat": 4,
 "nbformat_minor": 5
}
