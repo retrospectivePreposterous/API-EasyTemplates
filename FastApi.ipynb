{
 "cells": [
  {
   "cell_type": "markdown",
   "id": "3f4e72f5",
   "metadata": {},
   "source": [
    "# FIRST TEST"
   ]
  },
  {
   "cell_type": "code",
   "execution_count": 2,
   "id": "075244dc",
   "metadata": {},
   "outputs": [],
   "source": [
    "from fastapi import FastAPI\n",
    "\n",
    "app = FastAPI()\n",
    "\n",
    "@app.get(\"/\") #If we put just / it means our Home\n",
    "def index():\n",
    "    return {\"name\": \"First Data\"}"
   ]
  },
  {
   "cell_type": "markdown",
   "id": "a04a6581",
   "metadata": {},
   "source": [
    "# SECOND TEST - PATH PARAMETERS"
   ]
  },
  {
   "cell_type": "code",
   "execution_count": 3,
   "id": "037d8e8a",
   "metadata": {},
   "outputs": [],
   "source": [
    "from fastapi import FastAPI\n",
    "\n",
    "app = FastAPI()\n",
    "\n",
    "students = {\n",
    "    1: {\n",
    "        \"name\": \"john\",\n",
    "        \"age\": 17,\n",
    "        \"class\": \"year 12\"\n",
    "    }\n",
    "}\n",
    "\n",
    "@app.get(\"/\") #If we put just / it means our Home\n",
    "def index():\n",
    "    return {\"name\": \"First Data\"}\n",
    "\n",
    "@app.get(\"/get-student/{student_id}\") #In localhost, /get-student/1 will give back the data\n",
    "def get_student(student_id: int):\n",
    "    return students[student_id]"
   ]
  },
  {
   "cell_type": "markdown",
   "id": "fddb96ff",
   "metadata": {},
   "source": [
    "# THIRD TEST - QUERY PARAMETERS"
   ]
  },
  {
   "cell_type": "code",
   "execution_count": 1,
   "id": "53f69a2b",
   "metadata": {},
   "outputs": [],
   "source": [
    "from fastapi import FastAPI\n",
    "\n",
    "app = FastAPI()\n",
    "\n",
    "students = {\n",
    "    1: {\n",
    "        \"name\": \"john\",\n",
    "        \"age\": 17,\n",
    "        \"class\": \"year 12\"\n",
    "    }\n",
    "}\n",
    "\n",
    "@app.get(\"/\") #If we put just / it means our Home\n",
    "def index():\n",
    "    return {\"name\": \"First Data\"}\n",
    "\n",
    "@app.get(\"/get-student/{student_id}\") #In localhost, /get-student/1 will give back the data\n",
    "def get_student(student_id: int):\n",
    "    return students[student_id]\n",
    "\n",
    "@app.get(\"/get-by-name\") #In localhost, /get-by-name?name=john\n",
    "def get_student(name: str):\n",
    "    for student_id in students:\n",
    "        if students[student_id][\"name\"] == name:\n",
    "            return students[student_id]\n",
    "    return {\"Data\" : \"Not found\"}"
   ]
  },
  {
   "cell_type": "markdown",
   "id": "d36194ff",
   "metadata": {},
   "source": [
    "# RUN API"
   ]
  },
  {
   "cell_type": "code",
   "execution_count": null,
   "id": "2c41d273",
   "metadata": {},
   "outputs": [
    {
     "name": "stderr",
     "output_type": "stream",
     "text": [
      "INFO:     Started server process [22312]\n",
      "INFO:     Waiting for application startup.\n",
      "INFO:     Application startup complete.\n",
      "INFO:     Uvicorn running on http://127.0.0.1:8000 (Press CTRL+C to quit)\n"
     ]
    },
    {
     "name": "stdout",
     "output_type": "stream",
     "text": [
      "INFO:     127.0.0.1:56237 - \"GET / HTTP/1.1\" 200 OK\n",
      "INFO:     127.0.0.1:56238 - \"GET /get-by-name/john HTTP/1.1\" 404 Not Found\n",
      "INFO:     127.0.0.1:56239 - \"GET /get-by-name%3Ajohn HTTP/1.1\" 404 Not Found\n",
      "INFO:     127.0.0.1:56240 - \"GET /get-by-name%3A%22john%22 HTTP/1.1\" 404 Not Found\n",
      "INFO:     127.0.0.1:56241 - \"GET /get-by-name/%22john%22 HTTP/1.1\" 404 Not Found\n",
      "INFO:     127.0.0.1:56242 - \"GET /get-by-name?name=john HTTP/1.1\" 200 OK\n"
     ]
    }
   ],
   "source": [
    "import uvicorn\n",
    "import nest_asyncio\n",
    "\n",
    "nest_asyncio.apply()\n",
    "uvicorn.run(app, port=8000)"
   ]
  },
  {
   "cell_type": "code",
   "execution_count": null,
   "id": "76277cc6",
   "metadata": {},
   "outputs": [],
   "source": []
  }
 ],
 "metadata": {
  "kernelspec": {
   "display_name": "Python 3 (ipykernel)",
   "language": "python",
   "name": "python3"
  },
  "language_info": {
   "codemirror_mode": {
    "name": "ipython",
    "version": 3
   },
   "file_extension": ".py",
   "mimetype": "text/x-python",
   "name": "python",
   "nbconvert_exporter": "python",
   "pygments_lexer": "ipython3",
   "version": "3.8.12"
  }
 },
 "nbformat": 4,
 "nbformat_minor": 5
}
